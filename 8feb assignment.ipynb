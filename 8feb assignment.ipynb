{
 "cells": [
  {
   "cell_type": "code",
   "execution_count": null,
   "id": "a967e2a1-0342-4b38-8ad5-6a5cfbe0aef7",
   "metadata": {},
   "outputs": [],
   "source": [
    "Q1. What is Abstraction in OOps? Explain with an example."
   ]
  },
  {
   "cell_type": "code",
   "execution_count": null,
   "id": "d0ddb539-1bca-47c0-a41f-ac7c966bd8c4",
   "metadata": {},
   "outputs": [],
   "source": [
    "Abstraction in object-oriented programming (OOP) is a fundamental concept that allows you to create simplified models of real-world objects, systems, or processes by focusing on their essential characteristics and ignoring unnecessary details. It is the process of representing complex entities in a simplified and manageable manner, making it easier to understand and work with them.\n",
    "example-"
   ]
  },
  {
   "cell_type": "code",
   "execution_count": 1,
   "id": "0e4eaeb1-c1a0-4e1b-95c8-3481b127bc14",
   "metadata": {},
   "outputs": [
    {
     "name": "stdout",
     "output_type": "stream",
     "text": [
      "Savings Account Balance: 6000\n",
      "Checking Account Balance: 1500\n"
     ]
    }
   ],
   "source": [
    "from abc import ABC, abstractmethod\n",
    "\n",
    "class BankAccount(ABC):\n",
    "\n",
    "    def __init__(self, account_number, balance):\n",
    "        self.account_number = account_number\n",
    "        self.balance = balance\n",
    "\n",
    "    @abstractmethod\n",
    "    def deposit(self, amount):\n",
    "        pass\n",
    "\n",
    "    @abstractmethod\n",
    "    def withdraw(self, amount):\n",
    "        pass\n",
    "\n",
    "class SavingsAccount(BankAccount):\n",
    "\n",
    "    def deposit(self, amount):\n",
    "        self.balance += amount\n",
    "\n",
    "    def withdraw(self, amount):\n",
    "        if amount <= self.balance:\n",
    "            self.balance -= amount\n",
    "        else:\n",
    "            print(\"Insufficient balance.\")\n",
    "\n",
    "class CheckingAccount(BankAccount):\n",
    "\n",
    "    def deposit(self, amount):\n",
    "        self.balance += amount\n",
    "\n",
    "    def withdraw(self, amount):\n",
    "        if amount <= self.balance:\n",
    "            self.balance -= amount\n",
    "        else:\n",
    "            print(\"Insufficient balance.\")\n",
    "\n",
    "savings_acct = SavingsAccount(\"SA001\", 5000)\n",
    "checking_acct = CheckingAccount(\"CA001\", 3000)\n",
    "\n",
    "savings_acct.deposit(2000)\n",
    "savings_acct.withdraw(1000)\n",
    "print(\"Savings Account Balance:\", savings_acct.balance)\n",
    "\n",
    "checking_acct.deposit(500)\n",
    "checking_acct.withdraw(2000)\n",
    "print(\"Checking Account Balance:\", checking_acct.balance)\n"
   ]
  },
  {
   "cell_type": "code",
   "execution_count": null,
   "id": "0a4896cc-9a67-4eec-adeb-f6d3841de3ec",
   "metadata": {},
   "outputs": [],
   "source": [
    "Q2. Differentiate between Abstraction and Encapsulation. Explain with an example."
   ]
  },
  {
   "cell_type": "code",
   "execution_count": null,
   "id": "50461ec0-ffff-4988-88ef-64b41d9820ff",
   "metadata": {},
   "outputs": [],
   "source": [
    "Abstraction and Encapsulation are two essential concepts in object-oriented programming (OOP), and they serve different purposes but are closely related."
   ]
  },
  {
   "cell_type": "code",
   "execution_count": null,
   "id": "e669c67f-df94-4ca3-b19e-6669392349f5",
   "metadata": {},
   "outputs": [],
   "source": [
    "1- abstraction\n",
    "  Abstraction is the process of representing complex real-world objects or systems in a simplified manner by focusing on the essential properties and ignoring unnecessary details.\n",
    "It allows you to create models or blueprints of objects, defining their structure and behavior without specifying the implementation details."
   ]
  },
  {
   "cell_type": "code",
   "execution_count": 2,
   "id": "02674b17-f663-4c1a-864e-70977983d8e5",
   "metadata": {},
   "outputs": [
    {
     "name": "stdout",
     "output_type": "stream",
     "text": [
      "Area of Circle: 78.5\n",
      "Area of Square: 16\n"
     ]
    }
   ],
   "source": [
    "from abc import ABC, abstractmethod\n",
    "\n",
    "class Shape(ABC):\n",
    "\n",
    "    @abstractmethod\n",
    "    def area(self):\n",
    "        pass\n",
    "\n",
    "class Circle(Shape):\n",
    "\n",
    "    def __init__(self, radius):\n",
    "        self.radius = radius\n",
    "\n",
    "    def area(self):\n",
    "        return 3.14 * self.radius * self.radius\n",
    "\n",
    "class Square(Shape):\n",
    "\n",
    "    def __init__(self, side_length):\n",
    "        self.side_length = side_length\n",
    "\n",
    "    def area(self):\n",
    "        return self.side_length * self.side_length\n",
    "\n",
    "circle_obj = Circle(5)\n",
    "square_obj = Square(4)\n",
    "\n",
    "print(\"Area of Circle:\", circle_obj.area())\n",
    "print(\"Area of Square:\", square_obj.area())\n"
   ]
  },
  {
   "cell_type": "code",
   "execution_count": null,
   "id": "fe2e7bad-6666-4cfb-aab7-e3f4e50bef71",
   "metadata": {},
   "outputs": [],
   "source": [
    "1- Encapsulation\n",
    "  Encapsulation is the bundling of data (attributes) and the methods (functions) that operate on that data into a single unit (a class).\n",
    "It allows you to hide the internal implementation details of an object and expose only the necessary interfaces (public methods) for interacting with the object."
   ]
  },
  {
   "cell_type": "code",
   "execution_count": 3,
   "id": "4704f8d6-50d1-4c47-bc28-a31a756b548e",
   "metadata": {},
   "outputs": [
    {
     "name": "stdout",
     "output_type": "stream",
     "text": [
      "Account Balance: 6000\n"
     ]
    }
   ],
   "source": [
    "class BankAccount:\n",
    "\n",
    "    def __init__(self, account_number, balance):\n",
    "        self._account_number = account_number \n",
    "        self._balance = balance \n",
    "\n",
    "    def deposit(self, amount):\n",
    "        self._balance += amount\n",
    "\n",
    "    def withdraw(self, amount):\n",
    "        if amount <= self._balance:\n",
    "            self._balance -= amount\n",
    "        else:\n",
    "            print(\"Insufficient balance.\")\n",
    "\n",
    "    def get_balance(self):\n",
    "        return self._balance\n",
    "\n",
    "account = BankAccount(\"12345\", 5000)\n",
    "account.deposit(2000)\n",
    "account.withdraw(1000)\n",
    "print(\"Account Balance:\", account.get_balance())\n"
   ]
  },
  {
   "cell_type": "code",
   "execution_count": null,
   "id": "914227ff-27fa-4b12-863e-39c5d5a9b7cd",
   "metadata": {},
   "outputs": [],
   "source": [
    "Q3. What is abc module in python? Why is it used?"
   ]
  },
  {
   "cell_type": "code",
   "execution_count": null,
   "id": "44d6c501-e2ce-4af7-a5db-86f5aa725ce4",
   "metadata": {},
   "outputs": [],
   "source": [
    "the \"abc\" module in python stands for \"abstract base classes\"\\\n",
    "1. Defining abstract base classes (ABCs):\n",
    "2. implementing polymorphism\n",
    "example of using 'abc' module\n"
   ]
  },
  {
   "cell_type": "code",
   "execution_count": 4,
   "id": "1f6875e5-5a73-4a94-9e79-a453162d19bc",
   "metadata": {},
   "outputs": [
    {
     "name": "stdout",
     "output_type": "stream",
     "text": [
      "Area: 78.5\n",
      "Area: 16\n"
     ]
    }
   ],
   "source": [
    "from abc import ABC, abstractmethod\n",
    "\n",
    "class Shape(ABC):\n",
    "\n",
    "    @abstractmethod\n",
    "    def area(self):\n",
    "        pass\n",
    "\n",
    "class Circle(Shape):\n",
    "\n",
    "    def __init__(self, radius):\n",
    "        self.radius = radius\n",
    "\n",
    "    def area(self):\n",
    "        return 3.14 * self.radius * self.radius\n",
    "\n",
    "class Square(Shape):\n",
    "\n",
    "    def __init__(self, side_length):\n",
    "        self.side_length = side_length\n",
    "\n",
    "    def area(self):\n",
    "        return self.side_length * self.side_length\n",
    "\n",
    "def print_area(shape_obj):\n",
    "    print(\"Area:\", shape_obj.area())\n",
    "\n",
    "circle_obj = Circle(5)\n",
    "square_obj = Square(4)\n",
    "\n",
    "print_area(circle_obj) \n",
    "print_area(square_obj)\n"
   ]
  },
  {
   "cell_type": "code",
   "execution_count": null,
   "id": "2a1b997a-c02c-4467-82f9-615c0319500e",
   "metadata": {},
   "outputs": [],
   "source": [
    "Q4. How can we achieve data abstraction?"
   ]
  },
  {
   "cell_type": "code",
   "execution_count": null,
   "id": "8aa3fd86-cc5f-4d3a-9c94-66a68fae11ed",
   "metadata": {},
   "outputs": [],
   "source": [
    "Data abstraction can be achieved in Python using classes and objects. Here's how you can achieve data abstraction:\n",
    "1 - Define a Class: Create a class that represents the abstract data type or entity you want to model. The class should have attributes (data members) and methods (functions).\n",
    "2 - Use Access Modifiers: In Python, there are no strict access modifiers like public, private, or protected as in some other programming languages. However, you can use conventions to indicate the intended access level. By convention, a single underscore (_) prefix is used to indicate that an attribute or method should be treated as \"protected\" and should not be accessed directly from outside the class. Double underscore (__) prefix indicates \"private\" attributes, which are further name-mangled to prevent accidental name conflicts.\n",
    "3 - Use Getter and Setter Methods: To access or modify the attributes of the class from outside, use public methods (getters and setters). These methods provide controlled access to the internal data, allowing you to apply validations or logic before reading or updating the data.\n"
   ]
  },
  {
   "cell_type": "code",
   "execution_count": null,
   "id": "46837a3e-dc1c-4527-a317-9a49424a69fd",
   "metadata": {},
   "outputs": [],
   "source": [
    "Q5. Can we create an instance of an abstract class? Explain your answer."
   ]
  },
  {
   "cell_type": "code",
   "execution_count": null,
   "id": "4d12e07a-b4fc-43ff-beb4-314c1609f6fb",
   "metadata": {},
   "outputs": [],
   "source": []
  }
 ],
 "metadata": {
  "kernelspec": {
   "display_name": "Python 3 (ipykernel)",
   "language": "python",
   "name": "python3"
  },
  "language_info": {
   "codemirror_mode": {
    "name": "ipython",
    "version": 3
   },
   "file_extension": ".py",
   "mimetype": "text/x-python",
   "name": "python",
   "nbconvert_exporter": "python",
   "pygments_lexer": "ipython3",
   "version": "3.10.6"
  }
 },
 "nbformat": 4,
 "nbformat_minor": 5
}
